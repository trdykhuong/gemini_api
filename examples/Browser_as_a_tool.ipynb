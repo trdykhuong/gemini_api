{
  "nbformat": 4,
  "nbformat_minor": 0,
  "metadata": {
    "colab": {
      "provenance": [],
      "authorship_tag": "ABX9TyMmXdqCpm+uYRXqaSaoqusQ",
      "include_colab_link": true
    },
    "kernelspec": {
      "name": "python3",
      "display_name": "Python 3"
    },
    "language_info": {
      "name": "python"
    }
  },
  "cells": [
    {
      "cell_type": "markdown",
      "metadata": {
        "id": "view-in-github",
        "colab_type": "text"
      },
      "source": [
        "<a href=\"https://colab.research.google.com/github/trdykhuong/gemini_api/blob/main/examples/Browser_as_a_tool.ipynb\" target=\"_parent\"><img src=\"https://colab.research.google.com/assets/colab-badge.svg\" alt=\"Open In Colab\"/></a>"
      ]
    },
    {
      "cell_type": "markdown",
      "source": [
        "# Set up the SDK"
      ],
      "metadata": {
        "id": "FuMcFovDtSLO"
      }
    },
    {
      "cell_type": "code",
      "source": [
        "%pip install -U -q 'google-genai'\n",
        "\n",
        "from google import genai\n",
        "genai.__version__"
      ],
      "metadata": {
        "colab": {
          "base_uri": "https://localhost:8080/",
          "height": 70
        },
        "id": "NBGq1rGHtV1W",
        "outputId": "1abb1910-cff0-42a3-bcef-8d06ae47c679"
      },
      "execution_count": 2,
      "outputs": [
        {
          "output_type": "stream",
          "name": "stdout",
          "text": [
            "\u001b[2K     \u001b[90m━━━━━━━━━━━━━━━━━━━━━━━━━━━━━━━━━━━━━━━━\u001b[0m \u001b[32m45.3/45.3 kB\u001b[0m \u001b[31m2.2 MB/s\u001b[0m eta \u001b[36m0:00:00\u001b[0m\n",
            "\u001b[2K   \u001b[90m━━━━━━━━━━━━━━━━━━━━━━━━━━━━━━━━━━━━━━━━\u001b[0m \u001b[32m237.3/237.3 kB\u001b[0m \u001b[31m6.0 MB/s\u001b[0m eta \u001b[36m0:00:00\u001b[0m\n",
            "\u001b[?25h"
          ]
        },
        {
          "output_type": "execute_result",
          "data": {
            "text/plain": [
              "'1.44.0'"
            ],
            "application/vnd.google.colaboratory.intrinsic+json": {
              "type": "string"
            }
          },
          "metadata": {},
          "execution_count": 2
        }
      ]
    },
    {
      "cell_type": "markdown",
      "source": [
        "Set up your API key"
      ],
      "metadata": {
        "id": "4qeYCq98taPY"
      }
    },
    {
      "cell_type": "code",
      "source": [
        "import os\n",
        "from google.colab import userdata\n",
        "\n",
        "GOOGLE_API_KEY = userdata.get('GOOGLE_API_KEY')"
      ],
      "metadata": {
        "id": "sZloZa0ata8h"
      },
      "execution_count": 3,
      "outputs": []
    },
    {
      "cell_type": "markdown",
      "source": [
        "Create the SDK client"
      ],
      "metadata": {
        "id": "_0TkWF1rtgYB"
      }
    },
    {
      "cell_type": "code",
      "source": [
        "from google.genai import types\n",
        "\n",
        "client = genai.Client(api_key=GOOGLE_API_KEY)\n",
        "\n",
        "LIVE_MODEL = 'gemini-2.0-flash-live-001'  # @param ['gemini-2.0-flash-live-001', 'gemini-live-2.5-flash-preview', 'gemini-2.5-flash-preview-native-audio-dialog', 'gemini-2.5-flash-exp-native-audio-thinking-dialog'] {allow-input: true, isTemplate: true}\n",
        "MODEL = 'gemini-2.5-flash'  # @param ['gemini-2.5-flash'] {allow-input: true, isTemplate: true}"
      ],
      "metadata": {
        "id": "8uTUpFvgthPL"
      },
      "execution_count": 4,
      "outputs": []
    },
    {
      "cell_type": "markdown",
      "source": [
        "Define some helpers"
      ],
      "metadata": {
        "id": "I2dWt7QutkMs"
      }
    },
    {
      "cell_type": "code",
      "source": [
        "import json\n",
        "from urllib.robotparser import RobotFileParser\n",
        "from urllib.parse import urlparse\n",
        "\n",
        "from IPython.display import display, HTML, Markdown\n",
        "\n",
        "\n",
        "def show_parts(r: types.GenerateContentResponse) -> None:\n",
        "  \"\"\"Helper for rendering a GenerateContentResponse object in IPython.\"\"\"\n",
        "  parts = r.candidates[0].content.parts\n",
        "  if parts is None:\n",
        "    finish_reason = r.candidates[0].finish_reason\n",
        "    print(f'{finish_reason=}')\n",
        "    return\n",
        "\n",
        "  for part in parts:\n",
        "    if part.text:\n",
        "      display(Markdown(part.text))\n",
        "    elif part.executable_code:\n",
        "      display(Markdown(f'```python\\n{part.executable_code.code}\\n```'))\n",
        "    else:\n",
        "      print(json.dumps(part.model_dump(exclude_none=True), indent=2))\n",
        "\n",
        "  grounding_metadata = r.candidates[0].grounding_metadata\n",
        "  if grounding_metadata and grounding_metadata.search_entry_point:\n",
        "    display(HTML(grounding_metadata.search_entry_point.rendered_content))\n",
        "\n",
        "\n",
        "def can_crawl_url(url: str, user_agent: str = \"*\") -> bool:\n",
        "    \"\"\"Look up robots.txt for a URL and determine if crawling is permissable.\n",
        "\n",
        "    Args:\n",
        "        url: The full URL to check.\n",
        "        user_agent: The user agent to check, defaults to any UA.\n",
        "\n",
        "    Returns:\n",
        "        True if the URL can be crawled, False otherwise.\n",
        "    \"\"\"\n",
        "    try:\n",
        "      parsed_url = urlparse(url)\n",
        "      robots_url = f\"{parsed_url.scheme}://{parsed_url.netloc}/robots.txt\"\n",
        "      rp = RobotFileParser(robots_url)\n",
        "      rp.read()\n",
        "\n",
        "      return rp.can_fetch(user_agent, url)\n",
        "\n",
        "    except Exception as e:\n",
        "      print(f\"Error checking robots.txt: {e}\")\n",
        "      return False  # Be a good citizen: fail closed."
      ],
      "metadata": {
        "id": "AttnmlKQtmgl"
      },
      "execution_count": 5,
      "outputs": []
    },
    {
      "cell_type": "markdown",
      "source": [
        "# Browsing live\n"
      ],
      "metadata": {
        "id": "R_yf4UYytrsD"
      }
    },
    {
      "cell_type": "markdown",
      "source": [
        "Use Google Search as a tool\n"
      ],
      "metadata": {
        "id": "BnBlUzt5tuPt"
      }
    },
    {
      "cell_type": "code",
      "source": [
        "config = {\n",
        "    'response_modalities': ['TEXT'],\n",
        "    'tools': [\n",
        "        {'google_search': {}},\n",
        "    ],\n",
        "}\n",
        "\n",
        "\n",
        "async def stream_response(stream, *, tool=None):\n",
        "  \"\"\"Handle a live streamed response, printing out text and issue tool calls.\"\"\"\n",
        "  all_responses = []\n",
        "\n",
        "  async for msg in stream.receive():\n",
        "    all_responses.append(msg)\n",
        "\n",
        "    if text := msg.text:\n",
        "      # Print streamed text responses.\n",
        "      print(text, end='')\n",
        "\n",
        "    elif tool_call := msg.tool_call:\n",
        "      # Handle tool calls.\n",
        "      for fc in tool_call.function_calls:\n",
        "        print(f'< Tool call', fc.model_dump(exclude_none=True))\n",
        "\n",
        "        if tool:\n",
        "          # Call the tool.\n",
        "          assert fc.name == tool.__name__, \"Unknown tool call encountered\"\n",
        "          tool_result = tool(**fc.args)\n",
        "\n",
        "        else:\n",
        "          # Return 'ok' as a way to mock tool calls.\n",
        "          tool_result = 'ok'\n",
        "\n",
        "        tool_response = types.LiveClientToolResponse(\n",
        "            function_responses=[types.FunctionResponse(\n",
        "                name=fc.name,\n",
        "                id=fc.id,\n",
        "                response={'result': tool_result},\n",
        "            )]\n",
        "        )\n",
        "\n",
        "        await stream.send(input=tool_response)\n",
        "\n",
        "  return all_responses"
      ],
      "metadata": {
        "id": "ww3nFJBPtvu9"
      },
      "execution_count": 6,
      "outputs": []
    },
    {
      "cell_type": "code",
      "source": [
        "async def run():\n",
        "  async with client.aio.live.connect(model=LIVE_MODEL, config=config) as stream:\n",
        "\n",
        "    await stream.send(input=\"Bài báo nổi bật trên Báo Tuổi Trẻ hôm nay là gì?\", end_of_turn=True)\n",
        "    await stream_response(stream)\n",
        "\n",
        "await run()"
      ],
      "metadata": {
        "colab": {
          "base_uri": "https://localhost:8080/"
        },
        "id": "cwUN3fi4t0Kv",
        "outputId": "382d08fc-ee17-4498-ce55-7bf4b7e82f6b"
      },
      "execution_count": 7,
      "outputs": [
        {
          "output_type": "stream",
          "name": "stderr",
          "text": [
            "/tmp/ipython-input-427872962.py:4: DeprecationWarning: The `session.send` method is deprecated and will be removed in a future version (not before Q3 2025).\n",
            "Please use one of the more specific methods: `send_client_content`, `send_realtime_input`, or `send_tool_response` instead.\n",
            "  await stream.send(input=\"Bài báo nổi bật trên Báo Tuổi Trẻ hôm nay là gì?\", end_of_turn=True)\n",
            "WARNING:google_genai.types:Warning: there are non-text parts in the response: ['executable_code'], returning concatenated text result from text parts, check out the non text parts for full response from model.\n",
            "WARNING:google_genai.types:Warning: there are non-text parts in the response: ['code_execution_result'], returning concatenated text result from text parts, check out the non text parts for full response from model.\n"
          ]
        },
        {
          "output_type": "stream",
          "name": "stdout",
          "text": [
            "Dựa trên kết quả tìm kiếm từ Báo Tuổi Trẻ hôm nay, ngày 15 tháng 10 năm 2025, một số tin nổi bật bao gồm:\n",
            "\n",
            "*   **Đường sắt tốc độ cao nối Cần Giờ của Vinspeed:** TP.HCM lập hội đồng thẩm định dự án.\n",
            "*   **Giá vàng thế giới:** Vượt 4.200 USD/ounce, vàng miếng SJC lên 148 triệu đồng/lượng.\n",
            "*   **Campuchia công bố danh tính** nghi phạm người Trung Quốc tra tấn, sát hại nam sinh Hàn Quốc.\n",
            "*   **Hàn Quốc cấm công dân** đến 3 \"điểm đen\" ở Campuchia.\n",
            "*   **Hà Nội mở đợt thi đua cao điểm** chào mừng Đại hội lần thứ XIV của Đảng.\n",
            "*   **TP Hồ Chí Minh bắt tay hành động** vì mục tiêu chung.\n",
            "\n"
          ]
        }
      ]
    },
    {
      "cell_type": "markdown",
      "source": [
        "Add a live browser"
      ],
      "metadata": {
        "id": "ZZkiB330t39Y"
      }
    },
    {
      "cell_type": "code",
      "source": [
        "%pip install -q markdownify"
      ],
      "metadata": {
        "id": "ROqNh9tQt4ww"
      },
      "execution_count": 8,
      "outputs": []
    },
    {
      "cell_type": "code",
      "source": [
        "import requests\n",
        "\n",
        "import markdownify\n",
        "\n",
        "\n",
        "def load_page(url: str) -> str:\n",
        "  \"\"\"\n",
        "  Load the page contents as Markdown.\n",
        "  \"\"\"\n",
        "\n",
        "  if not can_crawl_url(url):\n",
        "    return f\"URL {url} failed a robots.txt check.\"\n",
        "\n",
        "  try:\n",
        "    page = requests.get(url)\n",
        "    return markdownify.markdownify(page.content)\n",
        "\n",
        "  except Exception as e:\n",
        "    return f\"Error accessing URL: {e}\""
      ],
      "metadata": {
        "id": "TMWc96OQt6kw"
      },
      "execution_count": 9,
      "outputs": []
    },
    {
      "cell_type": "code",
      "source": [
        "load_page_def = types.Tool(functionDeclarations=[\n",
        "    types.FunctionDeclaration.from_callable(client=client, callable=load_page)]).model_dump(exclude_none=True)\n",
        "\n",
        "config = {\n",
        "    'response_modalities': ['TEXT'],\n",
        "    'tools': [\n",
        "        load_page_def,\n",
        "    ],\n",
        "    'system_instruction': \"\"\"Your job is to answer the users query using the tools available.\n",
        "\n",
        "First determine the address that will have the information and tell the user. Then immediately\n",
        "invoke the tool. Then answer the user.\n",
        "\"\"\"\n",
        "}\n",
        "\n",
        "\n",
        "async def run():\n",
        "  async with client.aio.live.connect(model=LIVE_MODEL, config=config) as stream:\n",
        "\n",
        "    await stream.send(input=\"What is today's featured article on the English Wikipedia?\", end_of_turn=True)\n",
        "    await stream_response(stream, tool=load_page)\n",
        "\n",
        "await run()"
      ],
      "metadata": {
        "colab": {
          "base_uri": "https://localhost:8080/"
        },
        "id": "g-4dO2wyt80I",
        "outputId": "b0be7326-9535-467c-b2f2-550053e50577"
      },
      "execution_count": 10,
      "outputs": [
        {
          "output_type": "stream",
          "name": "stderr",
          "text": [
            "/tmp/ipython-input-2832172136.py:20: DeprecationWarning: The `session.send` method is deprecated and will be removed in a future version (not before Q3 2025).\n",
            "Please use one of the more specific methods: `send_client_content`, `send_realtime_input`, or `send_tool_response` instead.\n",
            "  await stream.send(input=\"What is today's featured article on the English Wikipedia?\", end_of_turn=True)\n",
            "WARNING:google_genai.types:Warning: there are non-text parts in the response: ['executable_code'], returning concatenated text result from text parts, check out the non text parts for full response from model.\n"
          ]
        },
        {
          "output_type": "stream",
          "name": "stdout",
          "text": [
            "I can find the current featured article on the English Wikipedia by accessing its main page. The URL for that is \"https://en.wikipedia.org/wiki/Main_Page\".\n",
            "< Tool call {'id': 'function-call-16543207123890117898', 'args': {'url': 'https://en.wikipedia.org/wiki/Main_Page'}, 'name': 'load_page'}\n"
          ]
        },
        {
          "output_type": "stream",
          "name": "stderr",
          "text": [
            "/tmp/ipython-input-1116631210.py:42: DeprecationWarning: The `session.send` method is deprecated and will be removed in a future version (not before Q3 2025).\n",
            "Please use one of the more specific methods: `send_client_content`, `send_realtime_input`, or `send_tool_response` instead.\n",
            "  await stream.send(input=tool_response)\n",
            "WARNING:google_genai.types:Warning: there are non-text parts in the response: ['code_execution_result'], returning concatenated text result from text parts, check out the non text parts for full response from model.\n"
          ]
        },
        {
          "output_type": "stream",
          "name": "stdout",
          "text": [
            "I am sorry, I was unable to retrieve the content from the Wikipedia main page due to a robots.txt check failure. I cannot directly answer your question.\n"
          ]
        }
      ]
    },
    {
      "cell_type": "markdown",
      "source": [
        "Browse pages visually\n"
      ],
      "metadata": {
        "id": "3dJA_wXBt_0y"
      }
    },
    {
      "cell_type": "code",
      "source": [
        "!apt install -y chromium-browser"
      ],
      "metadata": {
        "colab": {
          "base_uri": "https://localhost:8080/"
        },
        "id": "u-LxOma5uAlS",
        "outputId": "1b72fc31-1869-474e-944d-f6969705a995"
      },
      "execution_count": null,
      "outputs": [
        {
          "output_type": "stream",
          "name": "stdout",
          "text": [
            "Reading package lists... Done\n",
            "Building dependency tree... Done\n",
            "Reading state information... Done\n",
            "The following additional packages will be installed:\n",
            "  apparmor libfuse3-3 libudev1 snapd squashfs-tools systemd-hwe-hwdb udev\n",
            "Suggested packages:\n",
            "  apparmor-profiles-extra apparmor-utils fuse3 zenity | kdialog\n",
            "The following NEW packages will be installed:\n",
            "  apparmor chromium-browser libfuse3-3 snapd squashfs-tools systemd-hwe-hwdb\n",
            "  udev\n",
            "The following packages will be upgraded:\n",
            "  libudev1\n",
            "1 upgraded, 7 newly installed, 0 to remove and 37 not upgraded.\n",
            "Need to get 34.1 MB of archives.\n",
            "After this operation, 134 MB of additional disk space will be used.\n",
            "Get:1 http://archive.ubuntu.com/ubuntu jammy-updates/main amd64 apparmor amd64 3.0.4-2ubuntu2.4 [598 kB]\n",
            "Get:2 http://archive.ubuntu.com/ubuntu jammy/main amd64 squashfs-tools amd64 1:4.5-3build1 [159 kB]\n",
            "Get:3 http://archive.ubuntu.com/ubuntu jammy-updates/main amd64 libudev1 amd64 249.11-0ubuntu3.17 [76.7 kB]\n",
            "Get:4 http://archive.ubuntu.com/ubuntu jammy-updates/main amd64 udev amd64 249.11-0ubuntu3.17 [1,557 kB]\n",
            "Get:5 http://archive.ubuntu.com/ubuntu jammy/main amd64 libfuse3-3 amd64 3.10.5-1build1 [81.2 kB]\n",
            "Get:6 http://archive.ubuntu.com/ubuntu jammy-updates/main amd64 snapd amd64 2.71+ubuntu22.04 [31.6 MB]\n",
            "53% [6 snapd 14.8 MB/31.6 MB 47%]\u001b[0m"
          ]
        }
      ]
    },
    {
      "cell_type": "code",
      "source": [
        "%pip install -q selenium webdriver-manager"
      ],
      "metadata": {
        "id": "7chPpVW3uCoy"
      },
      "execution_count": null,
      "outputs": []
    },
    {
      "cell_type": "markdown",
      "source": [
        "Define a graphical browser"
      ],
      "metadata": {
        "id": "qKgxOs4BuEd7"
      }
    },
    {
      "cell_type": "code",
      "source": [
        "import time\n",
        "from selenium import webdriver\n",
        "from webdriver_manager.chrome import ChromeDriverManager\n",
        "\n",
        "SCREENSHOT_FILE = 'screenshot.png'\n",
        "\n",
        "\n",
        "def browse_url(url: str) -> str:\n",
        "    \"\"\"Captures a screenshot of the webpage at the provided URL.\n",
        "\n",
        "    A graphical browser will be used to connect to the URL provided,\n",
        "    and generate a screenshot of the rendered web page.\n",
        "\n",
        "    Args:\n",
        "        url: The full absolute URL to browse/screenshot.\n",
        "\n",
        "    Returns:\n",
        "        \"ok\" if successfully captured, or any error messages.\n",
        "    \"\"\"\n",
        "    if not can_crawl_url(url):\n",
        "      return f\"URL {url} failed a robots.txt check.\"\n",
        "\n",
        "    try:\n",
        "      chrome_options = webdriver.ChromeOptions()\n",
        "      chrome_options.add_argument('--headless')\n",
        "      chrome_options.add_argument('--no-sandbox')\n",
        "      chrome_options.headless = True\n",
        "      driver = webdriver.Chrome(options=chrome_options)\n",
        "\n",
        "      # Take one large image, 2x high as it is wide. This should be enough to\n",
        "      # capture most of a page's interesting info, and should capture anything\n",
        "      # designed \"above the fold\", without going too deep into things like\n",
        "      # footer links, infinitely scrolling pages, etc.\n",
        "      # Otherwise multiple images are needed, which requires waiting, scrolling\n",
        "      # and stitching, and introduces lag that slows down interactions.\n",
        "      driver.set_window_size(1024, 2048)\n",
        "      driver.get(url)\n",
        "\n",
        "      # Wait for the page to fully load.\n",
        "      time.sleep(5)\n",
        "      driver.save_screenshot(SCREENSHOT_FILE)\n",
        "\n",
        "      print(f\"Screenshot saved to {SCREENSHOT_FILE}\")\n",
        "      return markdownify.markdownify(driver.page_source)\n",
        "\n",
        "    except Exception as e:\n",
        "      print(f\"An error occurred: {e}\")\n",
        "      return str(e)\n",
        "\n",
        "    finally:\n",
        "      # Close the browser\n",
        "      if driver:\n",
        "        driver.quit()\n",
        "\n",
        "\n",
        "url = \"https://en.wikipedia.org/wiki/Castle\"\n",
        "browse_url(url);"
      ],
      "metadata": {
        "id": "yo0sDGvkuHGz"
      },
      "execution_count": null,
      "outputs": []
    },
    {
      "cell_type": "code",
      "source": [
        "from IPython.display import Image\n",
        "\n",
        "Image('screenshot.png')"
      ],
      "metadata": {
        "id": "TiYsnZBzuNTt"
      },
      "execution_count": null,
      "outputs": []
    },
    {
      "cell_type": "markdown",
      "source": [
        "Connect the browser to the model"
      ],
      "metadata": {
        "id": "pIZW_pKQuf_6"
      }
    },
    {
      "cell_type": "code",
      "source": [
        "sys_int = \"\"\"You are a system with access to websites via the `browse_url` tool.\n",
        "Use the `browse_url` tool to browse a URL and generate a screenshot that will be\n",
        "returned for you to see and inspect, like using a web browser.\n",
        "\n",
        "When a user requests information, first use your knowledge to determine a specific\n",
        "page URL, tell the user the URL and then invoke the `browse_tool` with this URL. The\n",
        "tool will supply the website, at which point you will examine the contents of the\n",
        "screenshot to answer the user's questions. Do not ask the user to proceed, just act.\n",
        "\n",
        "You will not be able to inspect the page HTML, so determine the most specific page\n",
        "URL, rather than starting navigation from a site's homepage.\n",
        "\"\"\"\n",
        "\n",
        "# Because `browse_url` generates an image, and images can't be used in function calling\n",
        "# (but can be used in regular Content/Parts), automatic function calling can't be used and\n",
        "# the tool must be specified explicitly, and handled manually.\n",
        "browse_tool = types.Tool(functionDeclarations=[\n",
        "    types.FunctionDeclaration.from_callable(client=client, callable=browse_url)])\n",
        "\n",
        "chat = client.chats.create(\n",
        "    model=MODEL,\n",
        "    config={'tools': [browse_tool], 'system_instruction': sys_int})\n",
        "\n",
        "r = chat.send_message('Search the key word \"trending\" on Youtube?')\n",
        "show_parts(r)"
      ],
      "metadata": {
        "id": "07PMrTpbuhRa"
      },
      "execution_count": null,
      "outputs": []
    },
    {
      "cell_type": "code",
      "source": [
        "import PIL\n",
        "\n",
        "response_parts = []\n",
        "\n",
        "# For each function call, generate the response in two parts. Once for the\n",
        "# function response, and one for the image as regular content. This simulates\n",
        "# the function \"returning\" an image to the model as part of a function call.\n",
        "for p in r.candidates[0].content.parts:\n",
        "  if fn := p.function_call:\n",
        "    assert fn.name == 'browse_url'\n",
        "\n",
        "    url = fn.args['url']\n",
        "    print(url)\n",
        "    response = browse_url(url)\n",
        "    print(response)\n",
        "\n",
        "    img = PIL.Image.open(SCREENSHOT_FILE)\n",
        "\n",
        "    fr = genai.types.Part(function_response=genai.types.FunctionResponse(\n",
        "        name=fn.name,\n",
        "        id=fn.id,\n",
        "        response={'result': response},\n",
        "    ))\n",
        "    response_parts.extend([fr, img])"
      ],
      "metadata": {
        "id": "oLJjlUKHuSDO"
      },
      "execution_count": null,
      "outputs": []
    },
    {
      "cell_type": "code",
      "source": [
        "Image(SCREENSHOT_FILE)"
      ],
      "metadata": {
        "id": "gJvv6RumuUlG"
      },
      "execution_count": null,
      "outputs": []
    },
    {
      "cell_type": "code",
      "source": [
        "r2 = chat.send_message(response_parts)\n",
        "show_parts(r2)"
      ],
      "metadata": {
        "id": "ozNTsC7kum7U"
      },
      "execution_count": null,
      "outputs": []
    },
    {
      "cell_type": "markdown",
      "source": [
        "# Browse local services"
      ],
      "metadata": {
        "id": "yD1kslCfuos8"
      }
    },
    {
      "cell_type": "code",
      "source": [
        "!wget -nv https://storage.googleapis.com/generativeai-downloads/data/intranet.zip\n",
        "!unzip intranet.zip"
      ],
      "metadata": {
        "id": "LP1JHwOQuwZW"
      },
      "execution_count": null,
      "outputs": []
    },
    {
      "cell_type": "code",
      "source": [
        "import http.server\n",
        "import os\n",
        "import socketserver\n",
        "import threading\n",
        "\n",
        "\n",
        "PORT = 80\n",
        "DIRECTORY = \"./intranet/\"\n",
        "\n",
        "class Handler(http.server.SimpleHTTPRequestHandler):\n",
        "    def __init__(self, *args, **kwargs):\n",
        "        super().__init__(*args, directory=DIRECTORY, **kwargs)\n",
        "\n",
        "\n",
        "httpd = socketserver.TCPServer((\"\", PORT), Handler)\n",
        "server_thread = threading.Thread(target=httpd.serve_forever)\n",
        "server_thread.start()"
      ],
      "metadata": {
        "id": "V9CslnamuyV2"
      },
      "execution_count": null,
      "outputs": []
    },
    {
      "cell_type": "code",
      "source": [
        "!echo \"127.0.0.1 papercorp\" >> /etc/hosts\n",
        "!curl http://papercorp:{PORT}/"
      ],
      "metadata": {
        "id": "vdj72N2Ju0Q3"
      },
      "execution_count": null,
      "outputs": []
    },
    {
      "cell_type": "code",
      "source": [
        "import PIL\n",
        "\n",
        "print(browse_url(f\"http://papercorp:{PORT}/\"))\n",
        "PIL.Image.open(SCREENSHOT_FILE)"
      ],
      "metadata": {
        "id": "y0mWhvJ3u2qA"
      },
      "execution_count": null,
      "outputs": []
    },
    {
      "cell_type": "code",
      "source": [
        "config = {\n",
        "    'system_instruction': \"\"\"Use the tools you have to answer the user's questions about\n",
        "the \"PaperCorp\" company.\n",
        "\n",
        "You have access to web pages through the `load_page` tool, including access to the local\n",
        "network and intranet, where you will find information about the company. The `load_page`\n",
        "tool will return you the page contents as Markdown.\n",
        "\n",
        "The intranet hostname is `papercorp`, and the home page can be accessed via\n",
        "http://papercorp/.\n",
        "\n",
        "Unless you know an address already, start navigating from the home page to find other\n",
        "pages.\n",
        "\"\"\",\n",
        "    'tools': [load_page],\n",
        "}\n",
        "\n",
        "chat = client.chats.create(model=MODEL, config=config)\n",
        "r = chat.send_message('What forms are available through HR?')\n",
        "show_parts(r)"
      ],
      "metadata": {
        "id": "qheKcTmUu5BI"
      },
      "execution_count": null,
      "outputs": []
    },
    {
      "cell_type": "code",
      "source": [
        "httpd.shutdown()\n",
        "httpd.server_close()"
      ],
      "metadata": {
        "id": "8UBQFiHmu6qg"
      },
      "execution_count": null,
      "outputs": []
    }
  ]
}